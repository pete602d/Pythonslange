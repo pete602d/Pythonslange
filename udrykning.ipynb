{
  "nbformat": 4,
  "nbformat_minor": 0,
  "metadata": {
    "colab": {
      "provenance": [],
      "authorship_tag": "ABX9TyOE8Uph4cE4GdGmweujD0WV",
      "include_colab_link": true
    },
    "kernelspec": {
      "name": "python3",
      "display_name": "Python 3"
    },
    "language_info": {
      "name": "python"
    }
  },
  "cells": [
    {
      "cell_type": "markdown",
      "metadata": {
        "id": "view-in-github",
        "colab_type": "text"
      },
      "source": [
        "<a href=\"https://colab.research.google.com/github/pete602d/Pythonslange/blob/main/udrykning.ipynb\" target=\"_parent\"><img src=\"https://colab.research.google.com/assets/colab-badge.svg\" alt=\"Open In Colab\"/></a>"
      ]
    },
    {
      "cell_type": "markdown",
      "source": [
        "\n",
        "#Udringskøretejer og reaktionstider\n",
        "Her simuleres trafiksituationer med bilister og udrykningskøretøjer. Formålet er at visualisere hvor langt tid biler har til at reagere på udrykningskøretøjer. Her sammenlignes den nuværende situation, hvor bilister skal lytte efter sirener, med en ny metode hvor de bliver advaret om udrykningskøretøjet på forhånd.  \n"
      ],
      "metadata": {
        "id": "eatURZoJfEjX"
      }
    },
    {
      "cell_type": "code",
      "execution_count": null,
      "metadata": {
        "id": "MnXx8hGgexnI",
        "colab": {
          "base_uri": "https://localhost:8080/"
        },
        "outputId": "f7755b61-ef94-4721-ee54-eef28fcae555"
      },
      "outputs": [
        {
          "output_type": "stream",
          "name": "stdout",
          "text": [
            "Bil 1 (uden alarm) har 9 sekunder til at reagere og forsinker køretøjet\n",
            "Bil 2 (uden alarm) har 23 sekunder til at reagere og forsinker ikke køretøjet\n",
            "Bil 3 (uden alarm) har 17 sekunder til at reagere og forsinker ikke køretøjet\n",
            "Bil 4 (uden alarm) har 18 sekunder til at reagere og forsinker ikke køretøjet\n",
            "Bil 5 (uden alarm) har 9 sekunder til at reagere og forsinker køretøjet\n",
            "Bil 6 (uden alarm) har 25 sekunder til at reagere og forsinker ikke køretøjet\n",
            "Bil 7 (uden alarm) har 12 sekunder til at reagere og forsinker ikke køretøjet\n",
            "Bil 8 (uden alarm) har 7 sekunder til at reagere og forsinker køretøjet\n",
            "Bil 9 (uden alarm) har 22 sekunder til at reagere og forsinker ikke køretøjet\n",
            "Bil 10 (uden alarm) har 23 sekunder til at reagere og forsinker ikke køretøjet\n",
            "Bil 11 (med alarm) har 16 sekunder til at reagere og forsinker ikke køretøjet\n",
            "Bil 12 (med alarm) har 20 sekunder til at reagere og forsinker ikke køretøjet\n",
            "Bil 13 (med alarm) har 19 sekunder til at reagere og forsinker ikke køretøjet\n",
            "Bil 14 (med alarm) har 23 sekunder til at reagere og forsinker ikke køretøjet\n",
            "Bil 15 (med alarm) har 25 sekunder til at reagere og forsinker ikke køretøjet\n",
            "Bil 16 (med alarm) har 33 sekunder til at reagere og forsinker ikke køretøjet\n",
            "Bil 17 (med alarm) har 22 sekunder til at reagere og forsinker ikke køretøjet\n",
            "Bil 18 (med alarm) har 34 sekunder til at reagere og forsinker ikke køretøjet\n",
            "Bil 19 (med alarm) har 31 sekunder til at reagere og forsinker ikke køretøjet\n",
            "Bil 20 (med alarm) har 30 sekunder til at reagere og forsinker ikke køretøjet\n",
            "Andel af biler der forsinker uden alarm: 60.00%\n",
            "Andel af biler der forsinker med alarm: 20.00%\n"
          ]
        }
      ],
      "source": [
        "import random\n",
        "import pandas as pd\n",
        "\n",
        "antal_biler = 20\n",
        "uden_alarm = antal_biler//2\n",
        "med_alarm = antal_biler//2\n",
        "\n",
        "uden_alarm_reaktionstid = [random.randint(5, 25) for _ in range(uden_alarm)]\n",
        "med_alarm_reaktionstid = [random.randint(15, 40) for _ in range(med_alarm)]\n",
        "\n",
        "def forsinkelse_chance(reaktionstid, bilnummer, alarm_type):\n",
        "  if reaktionstid > 20:\n",
        "    chance = 0 #0%chance for forsinkelse\n",
        "  elif reaktionstid < 10:\n",
        "    chance = 100 #100%chance for forsinkelse\n",
        "  else:\n",
        "    chance = int((20 - reaktionstid) / 20 * 100)\n",
        "\n",
        "#Simuleriung af forsinkelse\n",
        "  if random.random() < chance /100:\n",
        "     print(f\"Bil {bilnummer} ({alarm_type}) har {reaktionstid} sekunder til at reagere og forsinker køretøjet\")\n",
        "  else:\n",
        "     print(f\"Bil {bilnummer} ({alarm_type}) har {reaktionstid} sekunder til at reagere og forsinker ikke køretøjet\")\n",
        "\n",
        "  return chance\n",
        "\n",
        "forsinkelser_uden_alarm = []\n",
        "for i, tid in enumerate(uden_alarm_reaktionstid):\n",
        "    forsinkelser_uden_alarm.append(forsinkelse_chance(tid, i + 1, \"uden alarm\"))\n",
        "\n",
        "forsinkelser_med_alarm = []\n",
        "for i, tid in enumerate(med_alarm_reaktionstid):\n",
        "    forsinkelser_med_alarm.append(forsinkelse_chance(tid, i + antal_biler // 2 + 1, \"med alarm\"))\n",
        "\n",
        "\n",
        "#andel af fosinkelser for hver liste\n",
        "andel_uden_alarm = sum(1 for chance in forsinkelser_uden_alarm if chance > 0) / len(forsinkelser_uden_alarm) * 100\n",
        "andel_med_alarm = sum(1 for chance in forsinkelser_med_alarm if chance > 0) / len(forsinkelser_med_alarm) * 100\n",
        "\n",
        "print(\"Andel af biler der forsinker uden alarm: {:.2f}%\".format(andel_uden_alarm))\n",
        "\n",
        "print(\"Andel af biler der forsinker med alarm: {:.2f}%\".format(andel_med_alarm))\n"
      ]
    }
  ]
}