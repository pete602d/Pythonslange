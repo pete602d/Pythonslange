{
  "nbformat": 4,
  "nbformat_minor": 0,
  "metadata": {
    "colab": {
      "provenance": [],
      "authorship_tag": "ABX9TyMTAJaFA+GiEOw2zPyHrfhK",
      "include_colab_link": true
    },
    "kernelspec": {
      "name": "python3",
      "display_name": "Python 3"
    },
    "language_info": {
      "name": "python"
    }
  },
  "cells": [
    {
      "cell_type": "markdown",
      "metadata": {
        "id": "view-in-github",
        "colab_type": "text"
      },
      "source": [
        "<a href=\"https://colab.research.google.com/github/pete602d/Pythonslange/blob/main/udrykning.ipynb\" target=\"_parent\"><img src=\"https://colab.research.google.com/assets/colab-badge.svg\" alt=\"Open In Colab\"/></a>"
      ]
    },
    {
      "cell_type": "markdown",
      "source": [
        "\n",
        "#Udringskøretejer og reaktionstider\n",
        "Her simuleres trafiksituationer med bilister og udrykningskøretøjer. Formålet er at visualisere hvor langt tid biler har til at reagere på udrykningskøretøjer. Her sammenlignes den nuværende situation, hvor bilister skal lytte efter sirener, med en ny metode hvor de bliver advaret om udrykningskøretøjet på forhånd.  \n"
      ],
      "metadata": {
        "id": "eatURZoJfEjX"
      }
    },
    {
      "cell_type": "code",
      "execution_count": 345,
      "metadata": {
        "id": "MnXx8hGgexnI",
        "colab": {
          "base_uri": "https://localhost:8080/",
          "height": 106
        },
        "outputId": "c0752f89-5390-47e4-fe0c-1ea37c301ae8"
      },
      "outputs": [
        {
          "output_type": "error",
          "ename": "IndentationError",
          "evalue": "expected an indented block after 'for' statement on line 85 (<ipython-input-345-dec53c30d64a>, line 88)",
          "traceback": [
            "\u001b[0;36m  File \u001b[0;32m\"<ipython-input-345-dec53c30d64a>\"\u001b[0;36m, line \u001b[0;32m88\u001b[0m\n\u001b[0;31m    display(m)\u001b[0m\n\u001b[0m    ^\u001b[0m\n\u001b[0;31mIndentationError\u001b[0m\u001b[0;31m:\u001b[0m expected an indented block after 'for' statement on line 85\n"
          ]
        }
      ],
      "source": [
        "\n",
        "\n",
        "import random\n",
        "import pandas as pd\n",
        "import folium\n",
        "\n",
        "!pip install folium==0.14.0\n",
        "\n",
        "antal_biler = 20\n",
        "andel_med_alarm = 0.4\n",
        "med_alarm = int(antal_biler * andel_med_alarm)\n",
        "uden_alarm = antal_biler - med_alarm\n",
        "\n",
        "uden_alarm_reaktionstid = [random.randint(5, 22) for _ in range(uden_alarm)]\n",
        "med_alarm_reaktionstid = [random.randint(15, 45) for _ in range(med_alarm)]\n",
        "\n",
        "samlet_forsinkelse = 0\n",
        "\n",
        "def forsinkelse_chance(reaktionstid, bilnummer, alarm_type):\n",
        "  global samlet_forsinkelse\n",
        "  if reaktionstid > 20:\n",
        "    chance = 0\n",
        "  elif reaktionstid < 10:\n",
        "    chance = 100\n",
        "  else:\n",
        "    chance = int((20 - reaktionstid) / 10 * 100)\n",
        "\n",
        "#Simuleriung af forsinkelse\n",
        "  if random.random() < chance / 100:\n",
        "     # print(f\"Bil {bilnummer} ({alarm_type}) har {reaktionstid} sekunder til at reagere og forsinker køretøjet\")\n",
        "      forsinkelse = random.randint(5, 10)\n",
        "      samlet_forsinkelse += forsinkelse\n",
        "      return forsinkelse\n",
        "  else:\n",
        "     # print(f\"Bil {bilnummer} ({alarm_type}) har {reaktionstid} sekunder til at reagere og ikke forsinker køretøjet\")\n",
        "      return 0\n",
        "\n",
        "\n",
        "\n",
        "\n",
        "forsinkelser_uden_alarm = []\n",
        "for i, tid in enumerate(uden_alarm_reaktionstid):\n",
        "    forsinkelser_uden_alarm.append(forsinkelse_chance(tid, i + 1, \"uden alarm\"))\n",
        "\n",
        "forsinkelser_med_alarm = []\n",
        "for i, tid in enumerate(med_alarm_reaktionstid):\n",
        "    forsinkelser_med_alarm.append(forsinkelse_chance(tid, i + antal_biler // 2 + 1, \"med alarm\"))\n",
        "\n",
        "#print(f\"Den samlede forsinkelse af udrykningskøretøjet er {samlet_forsinkelse} sekunder\")\n",
        "\n",
        "#andel af fosinkelser for hver liste\n",
        "andel_fors_uden_alarm = sum(1 for chance in forsinkelser_uden_alarm if chance > 0) / len(forsinkelser_uden_alarm) * 100\n",
        "andel_fors_med_alarm = sum(1 for chance in forsinkelser_med_alarm if chance > 0) / len(forsinkelser_med_alarm) * 100\n",
        "\n",
        "#print(\"Andel af biler uden alarm der forsinker: {:.2f}%\".format(andel_uden_alarm))\n",
        "\n",
        "#print(\"Andel af biler med alarm der forsinker: {:.2f}%\".format(andel_med_alarm))\n",
        "\n",
        "data = {\n",
        "    \"Bilnummer\": list(range(1, antal_biler + 1)),\n",
        "    \"Advaret\": [\"Nej\"] * uden_alarm + [\"Ja\"] * med_alarm,\n",
        "    \"Reaktionstid\": uden_alarm_reaktionstid + med_alarm_reaktionstid,\n",
        "    \"Forsinkelse\": forsinkelser_uden_alarm + forsinkelser_med_alarm\n",
        "}\n",
        "\n",
        "df = pd.DataFrame(data)\n",
        "\n",
        "#display(df)\n",
        "\n",
        "\n",
        "forsinkelse_data = {\n",
        "    \"Advarede biler (%)\": (andel_med_alarm) *100 ,\n",
        "    \"Andel af ikke advarede biler der forsinker (%)\": andel_fors_uden_alarm,\n",
        "    \"Andel af advarede biler der forsinker (%)\": andel_fors_med_alarm,\n",
        "    \"Sekunder udrykningskøretøjets bliver forsinket\": samlet_forsinkelse\n",
        "}\n",
        "\n",
        "forsinkelse_df = pd.DataFrame([forsinkelse_data])\n",
        "#display(forsinkelse_df)\n",
        "\n",
        "#Kort\n",
        "center_lat = 55.646537\n",
        "center_lon = 12.224282\n",
        "\n",
        "m = folium.Map(location=[center_lat, center], zoom_start=13.5)\n",
        "\n",
        "for i in range(antal_biler):\n",
        "\n",
        "\n",
        "display(m)\n"
      ]
    }
  ]
}